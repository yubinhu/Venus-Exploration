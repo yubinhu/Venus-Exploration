{
 "cells": [
  {
   "cell_type": "code",
   "execution_count": 33,
   "id": "774def3b-8e34-45c2-a90d-320e7fb26120",
   "metadata": {},
   "outputs": [],
   "source": [
    "import pickle\n",
    "import pandas as pd\n",
    "import numpy as np\n",
    "\n",
    "from MyDataset import MyDataset\n",
    "\n",
    "from sklearn.gaussian_process import GaussianProcessRegressor\n",
    "from sklearn.gaussian_process.kernels import DotProduct, WhiteKernel\n",
    "from sklearn.gaussian_process.kernels import RBF, Matern, ConstantKernel\n",
    "from sklearn.model_selection import GridSearchCV\n",
    "from sklearn.model_selection import cross_val_score\n",
    "from sklearn_evaluation import plot\n",
    "import sklearn\n",
    "\n",
    "\n",
    "RANDSTATE = 42"
   ]
  },
  {
   "cell_type": "code",
   "execution_count": 22,
   "id": "86b9c85d-5221-434f-9134-a7a4fe3bd359",
   "metadata": {},
   "outputs": [],
   "source": [
    "# full script for loadXy\n",
    "def loadXy(data_dir, run_idx=\"1\", xcolumns=[\"inj_i_mean\", \"ext_i_mean\", \"mid_i_mean\"], ycolumns=[\"fcv1_i_mean\"]):\n",
    "    \"\"\"\n",
    "    Utility function for the specific data format.\n",
    "    :param data_dir: directory to the data files\n",
    "    :return: X (num_sample,input_dim), y (num_sample,), X_var (num_sample,)\n",
    "    \"\"\"\n",
    "    # constant definitions\n",
    "    time_column = [\"unix_epoch_milliseconds_mean\"]\n",
    "    input_columns = ['inj_i_mean', 'inj_i_std', 'ext_i_mean', 'ext_i_std', 'mid_i_mean', 'mid_i_std', 'bias_v_mean', 'bias_v_std', 'gas_balzer_2_mean', 'gas_balzer_2_std']\n",
    "    output_columns = ['fcv1_i_mean', 'fcv1_i_std']\n",
    "    x_std_columns = [s.replace(\"mean\", \"std\") for s in xcolumns]\n",
    "    cuts = {\n",
    "        \"1\": (1645222000, 1645512000),  # coils 'inj_i', 'ext_i', 'mid_i'\n",
    "        \"2\": (1647625000, 1647845000),  # coils 'inj_i', 'ext_i', 'mid_i'\n",
    "        \"3\": (1651285000, 1651476000),  # coils 'inj_i', 'ext_i', 'mid_i'\n",
    "        \"4\": (1657920000, 1658173000),  # no beam current\n",
    "        \"5\": (1662150000, 1662490000),  # bias_v, gas_balzer_2\n",
    "        \"6\": (1663360000, 1663570000),  # bias_v, gas_balzer_2\n",
    "        \"7.0\": (1664580000, 1664640000),  # bias_v, gas_balzer_2\n",
    "        \"7.5\": (1664737000, 1664810000),  # bias_v, gas_balzer_2\n",
    "        \"8\": (1665180000, 1665405000),  # bias_v, gas_balzer_2\n",
    "    }\n",
    "    # TODO: double check this with Damon\n",
    "    x_scaler_dict = {\n",
    "        \"inj_i_mean\": 1 / (130-117),\n",
    "        \"ext_i_mean\": 1 / (110-97),\n",
    "        \"mid_i_mean\": 1 / (110-95)\n",
    "    }\n",
    "    x_scalar = np.array([x_scaler_dict[s] for s in xcolumns])\n",
    "\n",
    "\n",
    "    # reading data\n",
    "    accumulated_data = pd.read_hdf(data_dir, \"data\")\n",
    "\n",
    "    # extracting useful information\n",
    "    data = accumulated_data[time_column+input_columns+output_columns]\n",
    "    bounds = cuts[run_idx]\n",
    "    run_data = data[(data[\"unix_epoch_milliseconds_mean\"]/1000 > bounds[0]) & (data[\"unix_epoch_milliseconds_mean\"]/1000 <= bounds[1])]\n",
    "    run_data.describe()\n",
    "\n",
    "    X = np.array(run_data[xcolumns]) * x_scalar\n",
    "    y = np.array(run_data[ycolumns]).squeeze()\n",
    "    X_var = (np.array(run_data[x_std_columns]) ** 2).sum(axis=1) # X_var = X1_std**2 + X2_std**2 + ...\n",
    "\n",
    "    # dimension check\n",
    "    assert(X.shape[0]==y.shape[0])\n",
    "    assert(len(y.shape) == 1)\n",
    "    assert(X.shape[0]==X_var.shape[0])\n",
    "\n",
    "    return X, y, X_var"
   ]
  },
  {
   "cell_type": "code",
   "execution_count": 23,
   "id": "e07aeaab-ffa3-4a0a-b582-e8f7a270bf17",
   "metadata": {},
   "outputs": [
    {
     "data": {
      "text/plain": [
       "((1057, 3), (1057,), (1057,))"
      ]
     },
     "execution_count": 23,
     "metadata": {},
     "output_type": "execute_result"
    }
   ],
   "source": [
    "X, y, X_var = loadXy(\"New Data/accumulated_weekend_data.h5\")\n",
    "X.shape, y.shape, X_var.shape"
   ]
  },
  {
   "cell_type": "code",
   "execution_count": 43,
   "id": "9b0eeab0-f173-40b9-9aed-852b624331e2",
   "metadata": {},
   "outputs": [],
   "source": [
    "# hyper parameters\n",
    "hp_nu = 0.66\n",
    "hp_length_scale = 1.0\n",
    "\n",
    "param_grid = [\n",
    "  {'kernel__length_scale':[0.8, 1.0], 'kernel__nu':[0.66, 0.86]},\n",
    "]\n",
    "\n",
    "kernel = Matern(length_scale_bounds=\"fixed\") \n",
    "kernel_RBF = RBF(length_scale_bounds=\"fixed\")\n",
    "#TODO: check if we want sklearn to autofit some of these paramters\n",
    "\n",
    "gpr = GaussianProcessRegressor(\n",
    "    kernel=kernel, alpha=X_var.mean(), n_restarts_optimizer=9\n",
    ") \n",
    "\n",
    "clf = GridSearchCV(estimator=gpr, param_grid=param_grid)\n",
    "clf.fit(X, y)\n",
    "with open(\"Results/gs_clf.dump\" , \"wb\") as f:\n",
    "    pickle.dump(clf, f)\n"
   ]
  },
  {
   "cell_type": "code",
   "execution_count": 46,
   "id": "7f3ff000",
   "metadata": {},
   "outputs": [
    {
     "data": {
      "text/plain": [
       "<AxesSubplot:title={'center':'Grid search results'}, xlabel='kernel__length_scale', ylabel='Mean score'>"
      ]
     },
     "execution_count": 46,
     "metadata": {},
     "output_type": "execute_result"
    },
    {
     "data": {
      "image/png": "[encoded data removed]",
      "text/plain": [
       "<Figure size 432x288 with 1 Axes>"
      ]
     },
     "metadata": {
      "needs_background": "light"
     },
     "output_type": "display_data"
    }
   ],
   "source": [
    "with open(\"Results/gs_clf.dump\" , \"rb\") as f:\n",
    "    clf_loaded = pickle.load(f)\n",
    "\n",
    "plot.grid_search(clf_loaded.cv_results_, change='kernel__length_scale', kind='bar')\n"
   ]
  },
  {
   "cell_type": "code",
   "execution_count": 5,
   "id": "592f58e0",
   "metadata": {},
   "outputs": [
    {
     "data": {
      "text/plain": [
       "{'alpha': 0.15,\n",
       " 'copy_X_train': True,\n",
       " 'kernel__length_scale': 1.0,\n",
       " 'kernel__length_scale_bounds': (1e-05, 100000.0),\n",
       " 'kernel__nu': 0.66,\n",
       " 'kernel': Matern(length_scale=1, nu=0.66),\n",
       " 'n_restarts_optimizer': 0,\n",
       " 'normalize_y': False,\n",
       " 'optimizer': 'fmin_l_bfgs_b',\n",
       " 'random_state': 0}"
      ]
     },
     "execution_count": 5,
     "metadata": {},
     "output_type": "execute_result"
    }
   ],
   "source": [
    "gpr.get_params()"
   ]
  },
  {
   "cell_type": "code",
   "execution_count": 25,
   "id": "89a9ddc7",
   "metadata": {},
   "outputs": [],
   "source": [
    "param_grid = [\n",
    "  {'alpha': [1e-5, 0.0001, 0.001, 0.01, 0.1], 'kernel__nu':[0.66, 0.86]},\n",
    " ]"
   ]
  },
  {
   "cell_type": "code",
   "execution_count": 26,
   "id": "e8b472ca",
   "metadata": {},
   "outputs": [
    {
     "name": "stderr",
     "output_type": "stream",
     "text": [
      "/usr/local/anaconda3/envs/LBNL/lib/python3.9/site-packages/sklearn/gaussian_process/_gpr.py:610: ConvergenceWarning: lbfgs failed to converge (status=2):\n",
      "ABNORMAL_TERMINATION_IN_LNSRCH.\n",
      "\n",
      "Increase the number of iterations (max_iter) or scale the data as shown in:\n",
      "    https://scikit-learn.org/stable/modules/preprocessing.html\n",
      "  _check_optimize_result(\"lbfgs\", opt_res)\n",
      "/usr/local/anaconda3/envs/LBNL/lib/python3.9/site-packages/sklearn/gaussian_process/_gpr.py:610: ConvergenceWarning: lbfgs failed to converge (status=2):\n",
      "ABNORMAL_TERMINATION_IN_LNSRCH.\n",
      "\n",
      "Increase the number of iterations (max_iter) or scale the data as shown in:\n",
      "    https://scikit-learn.org/stable/modules/preprocessing.html\n",
      "  _check_optimize_result(\"lbfgs\", opt_res)\n",
      "/usr/local/anaconda3/envs/LBNL/lib/python3.9/site-packages/sklearn/gaussian_process/_gpr.py:610: ConvergenceWarning: lbfgs failed to converge (status=2):\n",
      "ABNORMAL_TERMINATION_IN_LNSRCH.\n",
      "\n",
      "Increase the number of iterations (max_iter) or scale the data as shown in:\n",
      "    https://scikit-learn.org/stable/modules/preprocessing.html\n",
      "  _check_optimize_result(\"lbfgs\", opt_res)\n"
     ]
    },
    {
     "data": {
      "text/plain": [
       "GridSearchCV(estimator=GaussianProcessRegressor(kernel=Matern(length_scale=1, nu=0.66)),\n",
       "             param_grid=[{'alpha': [1e-05, 0.0001, 0.001, 0.01, 0.1],\n",
       "                          'kernel__nu': [0.66, 0.86]}])"
      ]
     },
     "execution_count": 26,
     "metadata": {},
     "output_type": "execute_result"
    }
   ],
   "source": [
    "gpr_ps = GaussianProcessRegressor(kernel = Matern(nu=0.66))\n",
    "clf = GridSearchCV(estimator=gpr_ps,\n",
    "             param_grid=param_grid)\n",
    "clf.fit(X, y)"
   ]
  },
  {
   "cell_type": "code",
   "execution_count": 27,
   "id": "5c0ea71c-babc-4491-ab36-b206ad30536a",
   "metadata": {},
   "outputs": [
    {
     "data": {
      "text/plain": [
       "<AxesSubplot:title={'center':'Grid search results'}, xlabel='alpha', ylabel='Mean score'>"
      ]
     },
     "execution_count": 27,
     "metadata": {},
     "output_type": "execute_result"
    },
    {
     "data": {
      "image/png": "[encoded data removed]",
      "text/plain": [
       "<Figure size 1200x800 with 1 Axes>"
      ]
     },
     "metadata": {
      "needs_background": "light"
     },
     "output_type": "display_data"
    }
   ],
   "source": [
    "plot.grid_search(clf.cv_results_, change='alpha', kind='bar')"
   ]
  },
  {
   "cell_type": "code",
   "execution_count": 5,
   "id": "c379848c-f027-4108-988f-4e0b0102c14c",
   "metadata": {},
   "outputs": [],
   "source": [
    "# Matern nu tuning\n",
    "# cv_score = []\n",
    "# nus = np.linspace(0.4, 2.6, 3)\n",
    "# relu = lambda x: x if x>0 else 0\n",
    "# for nu in nus:\n",
    "#     kernel = Matern(nu=nu)\n",
    "#     gpr = GaussianProcessRegressor(kernel=kernel,random_state=0, alpha=alpha).fit(venus.X_train, venus.y_train)\n",
    "#     cvs = cross_val_score(gpr, X, y)\n",
    "#     avg_cvs = sum(cvs)/len(cvs)\n",
    "#     print(\"%f for nu=%f\"%(avg_cvs, nu))\n",
    "#     cv_score.append(avg_cvs)\n",
    "\n",
    "# cv_score = [relu(x) for x in cv_score]\n",
    "# plt.plot(nus, cv_score, label=\"Cross-Validation Score\")\n",
    "# plt.legend()\n",
    "# plt.xlabel(\"nu\")\n",
    "# plt.title(\"Matern Kernel (alpha = 0.15)\")\n",
    "# plt.savefig(\"Matern nu.png\")"
   ]
  },
  {
   "cell_type": "code",
   "execution_count": 6,
   "id": "cdb55c6d-5d52-49e9-aa55-af88aaef4932",
   "metadata": {},
   "outputs": [
    {
     "name": "stdout",
     "output_type": "stream",
     "text": [
      "dataset normalized!\n",
      "Whole dataset training score: 0.972226\n"
     ]
    }
   ],
   "source": [
    "# use all available data for the final model\n",
    "kernel = Matern(nu=0.66)\n",
    "\n",
    "venus_whole = MyDataset()\n",
    "venus_whole.load_split(X, y, test_ratio=0)\n",
    "venus_whole.populate(X, None, y, None)\n",
    "venus_whole.normalize()\n",
    "\n",
    "gpr = GaussianProcessRegressor(kernel=kernel,random_state=1, alpha=alpha).fit(venus_whole.X_train, venus_whole.y_train)\n",
    "print(\"Whole dataset training score: %f\"%gpr.score(venus_whole.X_train, venus_whole.y_train))"
   ]
  },
  {
   "cell_type": "code",
   "execution_count": 7,
   "id": "5e5afd43-2c47-4a5f-b73f-59b73f04e4bf",
   "metadata": {},
   "outputs": [
    {
     "name": "stdout",
     "output_type": "stream",
     "text": [
      "[102.52640418 104.08696283 122.59401936] [3.34305675 3.45653727 3.00584971]\n"
     ]
    }
   ],
   "source": [
    "# save the model and print the normalizing lists used\n",
    "with open(\"Models/gprMatern0.66.dump\" , \"wb\") as f:\n",
    "    pickle.dump(gpr, f)\n",
    "print(venus_whole.avg_list, venus_whole.std_list)"
   ]
  },
  {
   "cell_type": "code",
   "execution_count": 8,
   "id": "9909c412",
   "metadata": {},
   "outputs": [],
   "source": [
    "def denormalize_gpr(gpr, dataset):\n",
    "    \"\"\"Denormalize and unpack gpr into a mean function and a variance function. \"\"\"\n",
    "    def gauss_mean(x, y, z):\n",
    "        arr = np.array([[x,y,z]])\n",
    "        arr = dataset.normalize_vec(arr)\n",
    "        result = gpr.predict(arr)\n",
    "        return result\n",
    "    \n",
    "    def gauss_var(x, y, z):\n",
    "        arr = np.array([[x,y,z]])\n",
    "        arr = dataset.normalize_vec(arr)\n",
    "        result = gpr.predict(arr, return_std=True)[1]\n",
    "        return result\n",
    "    return gauss_mean, gauss_var"
   ]
  },
  {
   "cell_type": "code",
   "execution_count": 9,
   "id": "ad546468-348c-4efa-86d8-31ee993aeb7f",
   "metadata": {},
   "outputs": [
    {
     "data": {
      "text/plain": [
       "'Cross Sections.gif'"
      ]
     },
     "execution_count": 9,
     "metadata": {},
     "output_type": "execute_result"
    }
   ],
   "source": [
    "gauss_mean, gauss_var = denormalize_gpr(gpr, venus_whole)\n",
    "\n",
    "z_values = np.linspace(117, 130, 27)\n",
    "plot_4D(gauss_mean, z_values, \"Figures/GPRplots/mean_refact/\", color_num = 21, wbounds=(0, 170))\n",
    "# plot_4D(gauss_var, z_values, \"Figures/GPRplots/var_refact/\", color_num = 21, wbounds=(0, 1))"
   ]
  },
  {
   "cell_type": "code",
   "execution_count": 10,
   "id": "dbd47a4a",
   "metadata": {},
   "outputs": [
    {
     "data": {
      "text/plain": [
       "'test.gif'"
      ]
     },
     "execution_count": 10,
     "metadata": {},
     "output_type": "execute_result"
    }
   ],
   "source": [
    "plot_4D_CS(gauss_mean, 126, wbounds=(0, 170))\n",
    "plot_4D(gauss_mean, z_values, func_name=\"test\",save_images=False, color_num = 21, wbounds=(0, 170))"
   ]
  },
  {
   "cell_type": "markdown",
   "id": "ee288dc2-6f88-481e-b05c-2b6c3c125c22",
   "metadata": {},
   "source": [
    "# Compare the Normalized Results of the two runs"
   ]
  },
  {
   "cell_type": "code",
   "execution_count": 11,
   "id": "155e2e12-4bdf-4d8a-b782-dce99a3907a6",
   "metadata": {},
   "outputs": [
    {
     "name": "stdout",
     "output_type": "stream",
     "text": [
      "dataset normalized!\n",
      "Whole dataset training score: 0.972426\n",
      "dataset normalized!\n",
      "Whole dataset training score: 0.956383\n"
     ]
    }
   ],
   "source": [
    "# train two models\n",
    "\n",
    "def train_model_on_run(data_dir):\n",
    "    X, y = loadXy(data_dir)\n",
    "    venus_whole = MyDataset()\n",
    "    venus_whole.populate(X, None, y, None)\n",
    "    venus_whole.normalize()\n",
    "\n",
    "    kernel = Matern(nu=0.66)\n",
    "    gpr = GaussianProcessRegressor(kernel=kernel,random_state=1, alpha=alpha).fit(venus_whole.X_train, venus_whole.y_train)\n",
    "    print(\"Whole dataset training score: %f\"%gpr.score(venus_whole.X_train, venus_whole.y_train))\n",
    "    return gpr, venus_whole\n",
    "\n",
    "gpr1, venus1 = train_model_on_run(\"Data/data1.pkl\")\n",
    "gpr2, venus2 = train_model_on_run(\"Data/data2.pkl\")"
   ]
  },
  {
   "cell_type": "code",
   "execution_count": 12,
   "id": "76d17789-6cfe-4304-9011-fea138bf966c",
   "metadata": {},
   "outputs": [],
   "source": [
    "# for z in np.linspace(117, 130, 27):\n",
    "#     plot_cross_section(gpr1, z, dataset=venus1, plotVar=True)\n",
    "#     plot_cross_section(gpr1, z, dataset=venus1, plotVar=False)"
   ]
  },
  {
   "cell_type": "code",
   "execution_count": 13,
   "id": "b90102c5-67b0-4caa-b5db-e21e2b80a187",
   "metadata": {},
   "outputs": [
    {
     "ename": "NameError",
     "evalue": "name 'plot_cross_section' is not defined",
     "output_type": "error",
     "traceback": [
      "\u001b[0;31m---------------------------------------------------------------------------\u001b[0m",
      "\u001b[0;31mNameError\u001b[0m                                 Traceback (most recent call last)",
      "\u001b[1;32m/Users/harvey/Documents/Research/LBNL/Venus Exploration Data/GRonData.ipynb Cell 14\u001b[0m in \u001b[0;36m<module>\u001b[0;34m\u001b[0m\n\u001b[1;32m      <a href='vscode-notebook-cell:/Users/harvey/Documents/Research/LBNL/Venus%20Exploration%20Data/GRonData.ipynb#X23sZmlsZQ%3D%3D?line=1'>2</a>\u001b[0m filenames2 \u001b[39m=\u001b[39m []\n\u001b[1;32m      <a href='vscode-notebook-cell:/Users/harvey/Documents/Research/LBNL/Venus%20Exploration%20Data/GRonData.ipynb#X23sZmlsZQ%3D%3D?line=2'>3</a>\u001b[0m \u001b[39mfor\u001b[39;00m z \u001b[39min\u001b[39;00m np\u001b[39m.\u001b[39mlinspace(\u001b[39m117\u001b[39m, \u001b[39m130\u001b[39m, \u001b[39m27\u001b[39m):\n\u001b[0;32m----> <a href='vscode-notebook-cell:/Users/harvey/Documents/Research/LBNL/Venus%20Exploration%20Data/GRonData.ipynb#X23sZmlsZQ%3D%3D?line=3'>4</a>\u001b[0m     filenames1\u001b[39m.\u001b[39mappend(plot_cross_section(gpr2, z, dataset\u001b[39m=\u001b[39mvenus2, plotVar\u001b[39m=\u001b[39m\u001b[39mTrue\u001b[39;00m))\n\u001b[1;32m      <a href='vscode-notebook-cell:/Users/harvey/Documents/Research/LBNL/Venus%20Exploration%20Data/GRonData.ipynb#X23sZmlsZQ%3D%3D?line=4'>5</a>\u001b[0m     filenames2\u001b[39m.\u001b[39mappend(plot_cross_section(gpr2, z, dataset\u001b[39m=\u001b[39mvenus2, plotVar\u001b[39m=\u001b[39m\u001b[39mFalse\u001b[39;00m, z_ratio\u001b[39m=\u001b[39m\u001b[39m0.87\u001b[39m)) \u001b[39m# , \u001b[39;00m\n\u001b[1;32m      <a href='vscode-notebook-cell:/Users/harvey/Documents/Research/LBNL/Venus%20Exploration%20Data/GRonData.ipynb#X23sZmlsZQ%3D%3D?line=7'>8</a>\u001b[0m \u001b[39mwith\u001b[39;00m imageio\u001b[39m.\u001b[39mget_writer(\u001b[39m'\u001b[39m\u001b[39mmygif.gif\u001b[39m\u001b[39m'\u001b[39m, mode\u001b[39m=\u001b[39m\u001b[39m'\u001b[39m\u001b[39mI\u001b[39m\u001b[39m'\u001b[39m) \u001b[39mas\u001b[39;00m writer:\n",
      "\u001b[0;31mNameError\u001b[0m: name 'plot_cross_section' is not defined"
     ]
    }
   ],
   "source": [
    "filenames1 = []\n",
    "filenames2 = []\n",
    "for z in np.linspace(117, 130, 27):\n",
    "    filenames1.append(plot_cross_section(gpr2, z, dataset=venus2, plotVar=True))\n",
    "    filenames2.append(plot_cross_section(gpr2, z, dataset=venus2, plotVar=False, z_ratio=0.87)) # , \n",
    "    \n",
    "\n",
    "with imageio.get_writer('mygif.gif', mode='I') as writer:\n",
    "    for filename in filenames1:\n",
    "        image = imageio.imread(filename)\n",
    "        writer.append_data(image)"
   ]
  },
  {
   "cell_type": "code",
   "execution_count": null,
   "id": "96c0d66c-7f4e-41ec-a01c-86df2d78f1d0",
   "metadata": {},
   "outputs": [],
   "source": []
  }
 ],
 "metadata": {
  "kernelspec": {
   "display_name": "Python 3 (ipykernel)",
   "language": "python",
   "name": "python3"
  },
  "language_info": {
   "codemirror_mode": {
    "name": "ipython",
    "version": 3
   },
   "file_extension": ".py",
   "mimetype": "text/x-python",
   "name": "python",
   "nbconvert_exporter": "python",
   "pygments_lexer": "ipython3",
   "version": "3.9.7"
  },
  "vscode": {
   "interpreter": {
    "hash": "b8f9c2828888885c68fe31a37e7fd660674c95c752917f33df47da5807bff37a"
   }
  }
 },
 "nbformat": 4,
 "nbformat_minor": 5
}
