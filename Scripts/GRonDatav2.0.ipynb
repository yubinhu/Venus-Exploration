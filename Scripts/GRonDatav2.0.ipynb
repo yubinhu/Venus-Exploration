{
 "cells": [
  {
   "cell_type": "code",
   "execution_count": 9,
   "id": "774def3b-8e34-45c2-a90d-320e7fb26120",
   "metadata": {},
   "outputs": [],
   "source": [
    "import pickle\n",
    "import pandas as pd\n",
    "import numpy as np\n",
    "\n",
    "from sklearn.gaussian_process import GaussianProcessRegressor\n",
    "from sklearn.gaussian_process.kernels import DotProduct, WhiteKernel\n",
    "from sklearn.gaussian_process.kernels import RBF, Matern, ConstantKernel\n",
    "from sklearn.model_selection import GridSearchCV\n",
    "from sklearn.model_selection import cross_val_score\n",
    "from sklearn_evaluation import plot\n",
    "import sklearn\n",
    "\n",
    "\n",
    "RANDSTATE = 42"
   ]
  },
  {
   "cell_type": "code",
   "execution_count": 10,
   "id": "86b9c85d-5221-434f-9134-a7a4fe3bd359",
   "metadata": {},
   "outputs": [],
   "source": [
    "# full script for loadXy\n",
    "def loadXy(data_dir, run_idx=\"1\", xcolumns=[\"inj_i_mean\", \"ext_i_mean\", \"mid_i_mean\"], ycolumns=[\"fcv1_i_mean\"]):\n",
    "    \"\"\"\n",
    "    Utility function for the specific data format.\n",
    "    :param data_dir: directory to the data files\n",
    "    :return: X (num_sample,input_dim), y (num_sample,), X_var (num_sample,)\n",
    "    \"\"\"\n",
    "    # constant definitions\n",
    "    time_column = [\"unix_epoch_milliseconds_mean\"]\n",
    "    input_columns = ['inj_i_mean', 'inj_i_std', 'ext_i_mean', 'ext_i_std', 'mid_i_mean', 'mid_i_std', 'bias_v_mean', 'bias_v_std', 'gas_balzer_2_mean', 'gas_balzer_2_std']\n",
    "    output_columns = ['fcv1_i_mean', 'fcv1_i_std']\n",
    "    x_std_columns = [s.replace(\"mean\", \"std\") for s in xcolumns]\n",
    "    cuts = {\n",
    "        \"1\": (1645222000, 1645512000),  # coils 'inj_i', 'ext_i', 'mid_i'\n",
    "        \"2\": (1647625000, 1647845000),  # coils 'inj_i', 'ext_i', 'mid_i'\n",
    "        \"3\": (1651285000, 1651476000),  # coils 'inj_i', 'ext_i', 'mid_i'\n",
    "        \"4\": (1657920000, 1658173000),  # no beam current\n",
    "        \"5\": (1662150000, 1662490000),  # bias_v, gas_balzer_2\n",
    "        \"6\": (1663360000, 1663570000),  # bias_v, gas_balzer_2\n",
    "        \"7.0\": (1664580000, 1664640000),  # bias_v, gas_balzer_2\n",
    "        \"7.5\": (1664737000, 1664810000),  # bias_v, gas_balzer_2\n",
    "        \"8\": (1665180000, 1665405000),  # bias_v, gas_balzer_2\n",
    "    }\n",
    "    # TODO: double check this with Damon\n",
    "    x_scaler_dict = {\n",
    "        \"inj_i_mean\": 1 / (130-117),\n",
    "        \"ext_i_mean\": 1 / (110-97),\n",
    "        \"mid_i_mean\": 1 / (110-95)\n",
    "    }\n",
    "    x_scalar = np.array([x_scaler_dict[s] for s in xcolumns])\n",
    "\n",
    "\n",
    "    # reading data\n",
    "    accumulated_data = pd.read_hdf(data_dir, \"data\")\n",
    "\n",
    "    # extracting useful information\n",
    "    data = accumulated_data[time_column+input_columns+output_columns]\n",
    "    bounds = cuts[run_idx]\n",
    "    run_data = data[(data[\"unix_epoch_milliseconds_mean\"]/1000 > bounds[0]) & (data[\"unix_epoch_milliseconds_mean\"]/1000 <= bounds[1])]\n",
    "    run_data.describe()\n",
    "\n",
    "    X = np.array(run_data[xcolumns]) * x_scalar\n",
    "    y = np.array(run_data[ycolumns]).squeeze()\n",
    "    X_var = (np.array(run_data[x_std_columns]) ** 2).sum(axis=1) # X_var = X1_std**2 + X2_std**2 + ...\n",
    "\n",
    "    # dimension check\n",
    "    assert(X.shape[0]==y.shape[0])\n",
    "    assert(len(y.shape) == 1)\n",
    "    assert(X.shape[0]==X_var.shape[0])\n",
    "\n",
    "    return X, y, X_var"
   ]
  },
  {
   "cell_type": "code",
   "execution_count": 11,
   "id": "e07aeaab-ffa3-4a0a-b582-e8f7a270bf17",
   "metadata": {},
   "outputs": [
    {
     "data": {
      "text/plain": [
       "((1057, 3), (1057,), (1057,))"
      ]
     },
     "execution_count": 11,
     "metadata": {},
     "output_type": "execute_result"
    }
   ],
   "source": [
    "X, y, X_var = loadXy(\"../New Data/accumulated_weekend_data.h5\")\n",
    "X.shape, y.shape, X_var.shape"
   ]
  },
  {
   "cell_type": "code",
   "execution_count": 13,
   "id": "9b0eeab0-f173-40b9-9aed-852b624331e2",
   "metadata": {},
   "outputs": [],
   "source": [
    "# hyper parameters\n",
    "param_grid = [\n",
    "  {'kernel__length_scale':[0.8, 1.0], 'kernel__nu':[0.66, 0.86]},\n",
    "]\n",
    "\n",
    "kernel = Matern(length_scale_bounds=\"fixed\") \n",
    "kernel_RBF = RBF(length_scale_bounds=\"fixed\")\n",
    "#TODO: check if we want sklearn to autofit some of these paramters\n",
    "\n",
    "gpr = GaussianProcessRegressor(\n",
    "    kernel=kernel, alpha=X_var.mean(), n_restarts_optimizer=9\n",
    ") \n",
    "\n",
    "clf = GridSearchCV(estimator=gpr, param_grid=param_grid)\n",
    "clf.fit(X, y)\n",
    "with open(\"../Results/gs_clf.dump\" , \"wb\") as f:\n",
    "    pickle.dump(clf, f)\n"
   ]
  },
  {
   "cell_type": "markdown",
   "id": "b5ba560d",
   "metadata": {},
   "source": [
    "## Result Inspection"
   ]
  },
  {
   "cell_type": "code",
   "execution_count": 18,
   "id": "7f3ff000",
   "metadata": {},
   "outputs": [],
   "source": [
    "with open(\"../Results/gs_clf.dump\" , \"rb\") as f:\n",
    "    clf_loaded = pickle.load(f)"
   ]
  },
  {
   "cell_type": "code",
   "execution_count": 19,
   "id": "a3e5c634",
   "metadata": {},
   "outputs": [
    {
     "data": {
      "text/plain": [
       "<AxesSubplot:title={'center':'Grid search results'}, xlabel='kernel__length_scale', ylabel='Mean score'>"
      ]
     },
     "execution_count": 19,
     "metadata": {},
     "output_type": "execute_result"
    },
    {
     "data": {
      "image/png": "[encoded data removed]",
      "text/plain": [
       "<Figure size 640x480 with 1 Axes>"
      ]
     },
     "metadata": {},
     "output_type": "display_data"
    }
   ],
   "source": [
    "plot.grid_search(clf_loaded.cv_results_, change='kernel__length_scale', kind='bar')\n"
   ]
  },
  {
   "cell_type": "code",
   "execution_count": 20,
   "id": "ef01a34a",
   "metadata": {},
   "outputs": [
    {
     "data": {
      "text/plain": [
       "{'mean_fit_time': array([0.38084817, 0.38540354, 0.37104893, 0.30956922]),\n",
       " 'std_fit_time': array([0.01563703, 0.00193995, 0.02150559, 0.01239623]),\n",
       " 'mean_score_time': array([0.09195094, 0.09185634, 0.08882289, 0.08356533]),\n",
       " 'std_score_time': array([0.00157447, 0.0004983 , 0.00812025, 0.01258294]),\n",
       " 'param_kernel__length_scale': masked_array(data=[0.8, 0.8, 1.0, 1.0],\n",
       "              mask=[False, False, False, False],\n",
       "        fill_value='?',\n",
       "             dtype=object),\n",
       " 'param_kernel__nu': masked_array(data=[0.66, 0.86, 0.66, 0.86],\n",
       "              mask=[False, False, False, False],\n",
       "        fill_value='?',\n",
       "             dtype=object),\n",
       " 'params': [{'kernel__length_scale': 0.8, 'kernel__nu': 0.66},\n",
       "  {'kernel__length_scale': 0.8, 'kernel__nu': 0.86},\n",
       "  {'kernel__length_scale': 1.0, 'kernel__nu': 0.66},\n",
       "  {'kernel__length_scale': 1.0, 'kernel__nu': 0.86}],\n",
       " 'split0_test_score': array([0.73995639, 0.73962805, 0.74004077, 0.74120765]),\n",
       " 'split1_test_score': array([0.55897259, 0.54758571, 0.55959636, 0.54843186]),\n",
       " 'split2_test_score': array([0.87444224, 0.86792956, 0.87482458, 0.86951013]),\n",
       " 'split3_test_score': array([0.88059725, 0.87723369, 0.88067751, 0.87793645]),\n",
       " 'split4_test_score': array([0.70267432, 0.70646502, 0.7029993 , 0.70639405]),\n",
       " 'mean_test_score': array([0.75132856, 0.74776841, 0.7516277 , 0.74869603]),\n",
       " 'std_test_score': array([0.11946946, 0.12086795, 0.11933678, 0.12103752]),\n",
       " 'rank_test_score': array([2, 4, 1, 3], dtype=int32)}"
      ]
     },
     "execution_count": 20,
     "metadata": {},
     "output_type": "execute_result"
    }
   ],
   "source": [
    "clf_loaded.cv_results_"
   ]
  },
  {
   "cell_type": "code",
   "execution_count": null,
   "id": "0a5da11a",
   "metadata": {},
   "outputs": [],
   "source": []
  }
 ],
 "metadata": {
  "kernelspec": {
   "display_name": "Python 3.9.13 ('base')",
   "language": "python",
   "name": "python3"
  },
  "language_info": {
   "codemirror_mode": {
    "name": "ipython",
    "version": 3
   },
   "file_extension": ".py",
   "mimetype": "text/x-python",
   "name": "python",
   "nbconvert_exporter": "python",
   "pygments_lexer": "ipython3",
   "version": "3.9.13"
  },
  "vscode": {
   "interpreter": {
    "hash": "e56f2290798654aa94e5f0ce144dd810b39b32133dcb0274ee15ee53844229cd"
   }
  }
 },
 "nbformat": 4,
 "nbformat_minor": 5
}
