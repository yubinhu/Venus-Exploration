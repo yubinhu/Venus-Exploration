{
 "cells": [
  {
   "cell_type": "code",
   "execution_count": 10,
   "id": "774def3b-8e34-45c2-a90d-320e7fb26120",
   "metadata": {},
   "outputs": [],
   "source": [
    "import pickle"
   ]
  },
  {
   "cell_type": "code",
   "execution_count": 11,
   "id": "86b9c85d-5221-434f-9134-a7a4fe3bd359",
   "metadata": {},
   "outputs": [],
   "source": [
    "with open(\"Data/data.pkl\", \"rb\") as fp:   # Unpickling\n",
    "    data_list = pickle.load(fp)\n",
    "    \n",
    "xpts, ypts, zpts, _, magpts = data_list"
   ]
  },
  {
   "cell_type": "code",
   "execution_count": 12,
   "id": "61b4bbbb-a219-4cef-a4fd-d32a71addee9",
   "metadata": {},
   "outputs": [],
   "source": [
    "assert(len(xpts)==len(ypts) and len(xpts)==len(zpts) and len(xpts)==len(magpts))"
   ]
  },
  {
   "cell_type": "code",
   "execution_count": 13,
   "id": "0b9d5a38-ff1d-4357-b1f1-575e3833210c",
   "metadata": {},
   "outputs": [],
   "source": [
    "# Transform the data into X, y form\n"
   ]
  },
  {
   "cell_type": "code",
   "execution_count": null,
   "id": "90e4c191-98c3-454d-9ae3-f9c5d1eb1027",
   "metadata": {},
   "outputs": [],
   "source": []
  }
 ],
 "metadata": {
  "kernelspec": {
   "display_name": "Python 3 (ipykernel)",
   "language": "python",
   "name": "python3"
  },
  "language_info": {
   "codemirror_mode": {
    "name": "ipython",
    "version": 3
   },
   "file_extension": ".py",
   "mimetype": "text/x-python",
   "name": "python",
   "nbconvert_exporter": "python",
   "pygments_lexer": "ipython3",
   "version": "3.9.7"
  }
 },
 "nbformat": 4,
 "nbformat_minor": 5
}
